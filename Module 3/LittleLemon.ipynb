{
 "cells": [
  {
   "cell_type": "code",
   "execution_count": 1,
   "id": "9d2a5333-4d93-4363-9e20-4dffb7c3ff21",
   "metadata": {},
   "outputs": [
    {
     "name": "stdout",
     "output_type": "stream",
     "text": [
      "Requirement already satisfied: mysql-connector-python in d:\\yogeshwar\\db-capstone-project\\.venv\\lib\\site-packages (9.3.0)\n",
      "Note: you may need to restart the kernel to use updated packages.\n"
     ]
    },
    {
     "name": "stderr",
     "output_type": "stream",
     "text": [
      "\n",
      "[notice] A new release of pip is available: 25.0.1 -> 25.1.1\n",
      "[notice] To update, run: python.exe -m pip install --upgrade pip\n"
     ]
    }
   ],
   "source": [
    "pip install mysql-connector-python"
   ]
  },
  {
   "cell_type": "code",
   "execution_count": 16,
   "id": "afcf571c-3809-424e-9e21-61d670a6c1c1",
   "metadata": {},
   "outputs": [],
   "source": [
    "import mysql.connector as connector"
   ]
  },
  {
   "cell_type": "code",
   "execution_count": 17,
   "id": "f5b89cf9-8d59-4639-be94-7aae293ad13a",
   "metadata": {},
   "outputs": [
    {
     "name": "stdout",
     "output_type": "stream",
     "text": [
      "Successfully connected to MySQL\n"
     ]
    }
   ],
   "source": [
    "try:\n",
    "    connection = connector.connect(\n",
    "        host=\"localhost\",\n",
    "        user=\"little_lemon\",\n",
    "        password=\"little_lemon@1\",\n",
    "        database=\"littlelemondb\"\n",
    "    )\n",
    "    print(\"Successfully connected to MySQL\")\n",
    "except Exception as e:\n",
    "    print(\"Connection failed:\", e)\n"
   ]
  },
  {
   "cell_type": "code",
   "execution_count": 18,
   "id": "74ffc668-fa7a-4d35-8c43-ae09de061ee5",
   "metadata": {},
   "outputs": [],
   "source": [
    "cursor = connection.cursor()"
   ]
  },
  {
   "cell_type": "code",
   "execution_count": 19,
   "id": "c55a5c27-d284-4e96-9114-763a9d4364f3",
   "metadata": {},
   "outputs": [],
   "source": [
    "show_tables = \"SHOW TABLES\"\n",
    "cursor.execute(show_tables)"
   ]
  },
  {
   "cell_type": "code",
   "execution_count": 20,
   "id": "2db56189-4343-4d24-9872-e6e9ec47452d",
   "metadata": {},
   "outputs": [
    {
     "name": "stdout",
     "output_type": "stream",
     "text": [
      "[('bookings',), ('customers',), ('menu',), ('menuitems',), ('order',), ('orderdeliverystatus',), ('ordersview',), ('staff',)]\n"
     ]
    }
   ],
   "source": [
    "results = cursor.fetchall()\n",
    "print(results)"
   ]
  },
  {
   "cell_type": "code",
   "execution_count": 22,
   "id": "a4d1b6d3-b06b-4940-8ce9-1365e881f53b",
   "metadata": {},
   "outputs": [
    {
     "name": "stdout",
     "output_type": "stream",
     "text": [
      "('Full Name', 'Phone Number', 'Email')\n",
      "('Chris Evans', '9876543210', 'chris.evans@example.com')\n",
      "('Emma Watson', '8765432109', 'emma.watson@example.com')\n",
      "('Robert Downey', '7654321098', 'robert.downey@example.com')\n"
     ]
    }
   ],
   "source": [
    "join_query = \"\"\" Select customers.Name as `Full Name`, customers.PhoneNumber as `Phone Number`, customers.Email as `Email` \n",
    "From customers inner join `order` on customers.customerId = `order`.customerId where `order`.TotalCost > 60\"\"\"\n",
    "cursor.execute(join_query)\n",
    "results = cursor.fetchall()\n",
    "columns = cursor.column_names\n",
    "\n",
    "print(columns)\n",
    "for item in results:\n",
    "    print(item)"
   ]
  },
  {
   "cell_type": "code",
   "execution_count": null,
   "id": "bb28a3c8-fc68-4a31-a31c-ca71a3c24626",
   "metadata": {},
   "outputs": [],
   "source": []
  }
 ],
 "metadata": {
  "kernelspec": {
   "display_name": "Python 3 (ipykernel)",
   "language": "python",
   "name": "python3"
  },
  "language_info": {
   "codemirror_mode": {
    "name": "ipython",
    "version": 3
   },
   "file_extension": ".py",
   "mimetype": "text/x-python",
   "name": "python",
   "nbconvert_exporter": "python",
   "pygments_lexer": "ipython3",
   "version": "3.11.4"
  }
 },
 "nbformat": 4,
 "nbformat_minor": 5
}
